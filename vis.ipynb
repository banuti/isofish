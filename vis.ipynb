{
 "cells": [
  {
   "cell_type": "markdown",
   "metadata": {},
   "source": [
    "prepdata\n",
    "=====\n",
    "\n",
    "Takes field output data from a cartesian computational fluid dynamics solver and extracts local cells with surrounding stencil and value at next timestep as training and validation data.\n",
    "\n",
    "\n",
    "Concept\n",
    "-------\n",
    "2D field data for available timesteps are taken and broken up into traingin and validation data. Each entry consists of x and y velocity components and the fluid/solid marker function $F$ for the cell of interest and its immediately surrounding cells at timestep $n$, and the cell value at the next timestep $n+1$.\n",
    "\n",
    "\n",
    "Current state\n",
    "------------\n",
    "Procedure works, the full stencil is currently taken into account. \n",
    "\n",
    "\n",
    "TODO\n",
    "----\n",
    "- current indexing using dataframes is super inefficient, needs to be converted to numpy arrays\n",
    "- increase number of datapoints by using symmetries directly?\n",
    "- make larger datasets\n"
   ]
  },
  {
   "cell_type": "code",
   "execution_count": 1,
   "metadata": {
    "collapsed": true
   },
   "outputs": [],
   "source": [
    "import pandas as pd\n",
    "import numpy as np\n",
    "import matplotlib.pyplot as plt\n",
    "from datetime import datetime\n",
    "import torch"
   ]
  },
  {
   "cell_type": "code",
   "execution_count": 13,
   "metadata": {
    "collapsed": true
   },
   "outputs": [],
   "source": [
    "cfd = pd.read_csv('fielddata.dat',header=0, delim_whitespace = True)"
   ]
  },
  {
   "cell_type": "code",
   "execution_count": 14,
   "metadata": {},
   "outputs": [
    {
     "name": "stdout",
     "output_type": "stream",
     "text": [
      "Index([u't', u'i', u'k', u'U', u'W', u'spd', u'vort', u'F'], dtype='object')\n",
      "[ 900  910  920  930  940  950  960  970  980  990 1000]\n"
     ]
    }
   ],
   "source": [
    "print cfd.columns\n",
    "print cfd.t.unique()"
   ]
  },
  {
   "cell_type": "code",
   "execution_count": 16,
   "metadata": {},
   "outputs": [
    {
     "data": {
      "image/png": "[encoded data removed]",
      "text/plain": [
       "<matplotlib.figure.Figure at 0x11ae0e790>"
      ]
     },
     "metadata": {},
     "output_type": "display_data"
    }
   ],
   "source": [
    "# print cfd.t.unique()\n",
    "\n",
    "t0 = 1000\n",
    "\n",
    "x = cfd.i.unique()\n",
    "y = cfd.k.unique()\n",
    "\n",
    "X, Y = np.meshgrid(x,y)\n",
    "nx,ny = X.shape\n",
    "\n",
    "Z = cfd[cfd.t == t0].U.values.reshape(nx,ny)\n",
    "plt.contourf(X,Y,Z, cmap='hot')\n",
    "plt.colorbar()\n",
    "\n",
    "plt.show()"
   ]
  },
  {
   "cell_type": "code",
   "execution_count": 8,
   "metadata": {},
   "outputs": [
    {
     "name": "stdout",
     "output_type": "stream",
     "text": [
      "1 180 1 100 1 5\n"
     ]
    }
   ],
   "source": [
    "\n",
    "imax  = cfd.i.max()\n",
    "imin  = cfd.i.min()\n",
    "kmax  = cfd.k.max()\n",
    "kmin  = cfd.k.min()\n",
    "tmin  = cfd.t.min()\n",
    "tmax  = cfd.t.max()\n",
    "tsteps = cfd.t.unique()\n",
    "print imin, imax, kmin,kmax, tmin, tmax#,tsteps\n"
   ]
  },
  {
   "cell_type": "code",
   "execution_count": 128,
   "metadata": {
    "collapsed": true
   },
   "outputs": [],
   "source": [
    "def writehead():\n",
    "    varstring = '\"i\",\"k\",\"U\",\"W\",\"spd\",\"vort\",\"F\"'\n",
    "    f = open(\"annoutfield.dat\", \"w\")\n",
    "    f.write('Title = \"ANN Movie\"\\n')\n",
    "    f.write('Variables='+varstring+'\\n')\n",
    "    print(\"writing head of moviefile...\")\n",
    "\n",
    "    \n",
    "def writezone(df,n):\n",
    "    print 'writing zone n = ',n\n",
    "    f = open(\"annoutfield.dat\", \"a\")\n",
    "    annout = df[df.t==n]\n",
    "\n",
    "    f.write('Zone T=\\\"n='+str(n)+'\\\",I= '+str(imax)+', K='+str(kmax)+',F = POINT \\n')\n",
    "\n",
    "    for kk in range(1,kmax+1):\n",
    "        for ii in range(1,imax+1):\n",
    "\n",
    "            ikann = annout[(annout.i == ii) & (annout.k == kk)]\n",
    "            iii = str(ikann.i.values[0])+' '\n",
    "            kkk = str(ikann.k.values[0])+' '\n",
    "            UUU = str(ikann.U.values[0])+' '\n",
    "            WWW = str(ikann.W.values[0])+' '\n",
    "            spd = str(ikann.spd.values[0])+' '\n",
    "            vor = str(ikann.vort.values[0])+' '\n",
    "            F   = str(ikann.F.values[0])+'\\n'\n",
    "\n",
    "            line = iii+kkk+UUU+WWW+spd+vor+F\n",
    "\n",
    "            f.write(line)\n",
    "    "
   ]
  },
  {
   "cell_type": "code",
   "execution_count": null,
   "metadata": {
    "collapsed": true
   },
   "outputs": [],
   "source": [
    "trainfile = open(\"traindataVCtest.dat\", \"w\")\n",
    "trainfile.write(\"U W U0 W0 U1 W1 U2 W2 U3 W3 U4 W4 U5 W5 U6 W6 U7 W7 isfluid Up Wp \\n\")\n",
    "trainfile.close()\n",
    "\n",
    "iimin = 25\n",
    "iimax = 150\n",
    "kkmin = 10\n",
    "kkmax = 90\n",
    "ttmin = tmin\n",
    "ttmax = tmax\n",
    "\n",
    "\n",
    "trainfile = open(\"traindataVCtest.dat\", \"a\")\n",
    "\n",
    "\n",
    "\n",
    "\n",
    "for t in range(ttmin,ttmax,50):\n",
    "    print 't = ',t\n",
    "    print(datetime.now().time())\n",
    "    \n",
    "    cfdt  = cfd[(cfd.t == t) & \n",
    "           (cfd.i>iimin-2) & \n",
    "           (cfd.i<iimax+2) & \n",
    "           (cfd.k>kkmin-2) &\n",
    "           (cfd.k<kkmax+2)]\n",
    "    print 't   ',cfdt.t.unique()\n",
    "        \n",
    "    cfdtp1 = cfd[(cfd.t == t+1) & \n",
    "               (cfd.i>iimin-2) & \n",
    "               (cfd.i<iimax+2) & \n",
    "               (cfd.k>kkmin-2) &\n",
    "               (cfd.k<kkmax+2)]\n",
    "    \n",
    "    print 't+1 ',cfdtp1.t.unique()\n",
    "    \n",
    "    for i in range(iimin,iimax):\n",
    "        for k in range(kkmin,kkmax):\n",
    "            \n",
    "            \n",
    "            stencil =  cfdt[(cfdt.t == t) & \n",
    "                            (cfdt.i>i-2) & \n",
    "                            (cfdt.i<i+2) & \n",
    "                            (cfdt.k>k-2) &\n",
    "                            (cfdt.k<k+2)]\n",
    "            \n",
    "            U  = stencil[(stencil.i == i)   & (stencil.k == k)].U.values[0]\n",
    "            W  = stencil[(stencil.i == i)   & (stencil.k == k)].W.values[0]\n",
    "            U0 = stencil[(stencil.i == i+1) & (stencil.k == k)].U.values[0]\n",
    "            W0 = stencil[(stencil.i == i+1) & (stencil.k == k)].W.values[0]\n",
    "            U1 = stencil[(stencil.i == i+1) & (stencil.k == k+1)].U.values[0]\n",
    "            W1 = stencil[(stencil.i == i+1) & (stencil.k == k+1)].W.values[0]\n",
    "            U2 = stencil[(stencil.i == i)   & (stencil.k == k+1)].U.values[0]\n",
    "            W2 = stencil[(stencil.i == i)   & (stencil.k == k+1)].W.values[0]\n",
    "            U3 = stencil[(stencil.i == i-1) & (stencil.k == k+1)].U.values[0]\n",
    "            W3 = stencil[(stencil.i == i-1) & (stencil.k == k+1)].W.values[0]\n",
    "            U4 = stencil[(stencil.i == i-1) & (stencil.k == k)].U.values[0]\n",
    "            W4 = stencil[(stencil.i == i-1) & (stencil.k == k)].W.values[0]\n",
    "            U5 = stencil[(stencil.i == i-1) & (stencil.k == k-1)].U.values[0]\n",
    "            W5 = stencil[(stencil.i == i-1) & (stencil.k == k-1)].W.values[0]\n",
    "            U6 = stencil[(stencil.i == i)   & (stencil.k == k-1)].U.values[0]\n",
    "            W6 = stencil[(stencil.i == i)   & (stencil.k == k-1)].W.values[0]\n",
    "            U7 = stencil[(stencil.i == i+1) & (stencil.k == k-1)].U.values[0]\n",
    "            W7 = stencil[(stencil.i == i+1) & (stencil.k == k-1)].W.values[0]\n",
    "            F  = stencil[(stencil.i == i)   & (stencil.k == k)].F.values[0]\n",
    "            \n",
    "            \n",
    "#             U  = cfdt[(cfdt.i == i) & (cfdt.k == k)].U.values[0]\n",
    "#             W  = cfdt[(cfdt.i == i) & (cfdt.k == k)].W.values[0]\n",
    "#             U0 = cfdt[(cfdt.i == i+1) & (cfdt.k == k)].U.values[0]\n",
    "#             W0 = cfdt[(cfdt.i == i+1) & (cfdt.k == k)].W.values[0]\n",
    "#             U1 = cfdt[(cfdt.i == i+1) & (cfdt.k == k+1)].U.values[0]\n",
    "#             W1 = cfdt[(cfdt.i == i+1) & (cfdt.k == k+1)].W.values[0]\n",
    "#             U2 = cfdt[(cfdt.i == i) & (cfdt.k == k+1)].U.values[0]\n",
    "#             W2 = cfdt[(cfdt.i == i) & (cfdt.k == k+1)].W.values[0]\n",
    "#             U3 = cfdt[(cfdt.i == i-1) & (cfdt.k == k+1)].U.values[0]\n",
    "#             W3 = cfdt[(cfdt.i == i-1) & (cfdt.k == k+1)].W.values[0]\n",
    "#             U4 = cfdt[(cfdt.i == i-1) & (cfdt.k == k)].U.values[0]\n",
    "#             W4 = cfdt[(cfdt.i == i-1) & (cfdt.k == k)].W.values[0]\n",
    "#             U5 = cfdt[(cfdt.i == i-1) & (cfdt.k == k-1)].U.values[0]\n",
    "#             W5 = cfdt[(cfdt.i == i-1) & (cfdt.k == k-1)].W.values[0]\n",
    "#             U6 = cfdt[(cfdt.i == i) & (cfdt.k == k-1)].U.values[0]\n",
    "#             W6 = cfdt[(cfdt.i == i) & (cfdt.k == k-1)].W.values[0]\n",
    "#             U7 = cfdt[(cfdt.i == i+1) & (cfdt.k == k-1)].U.values[0]\n",
    "#             W7 = cfdt[(cfdt.i == i+1) & (cfdt.k == k-1)].W.values[0]\n",
    "#             F = cfdt[(cfdt.i == i) & (cfdt.k == k)].F.values[0]\n",
    "\n",
    "            #from future stencil, no prefiltering\n",
    "            Up = cfdtp1[(cfdtp1.i == i) & (cfdtp1.k == k)].U.values[0]\n",
    "            Wp = cfdtp1[(cfdtp1.i == i) & (cfdtp1.k == k)].W.values[0]\n",
    "            \n",
    "\n",
    "\n",
    "            if (F>0):\n",
    "                isfluid = 1\n",
    "            else:\n",
    "                isfluid = 0\n",
    "            line = ''\n",
    "            for dd in [U,W,U0,W0,U1,W1,U2,W2,U3,W3,U4,W4,U5,W5,U6,W6,U7,W7,isfluid,Up,Wp]:\n",
    "                line += str(dd)+' '\n",
    "            line+='\\n'\n",
    "\n",
    "            trainfile.write(line)\n",
    "\n",
    "            \n",
    "\n",
    "trainfile.close()\n",
    "# print U,W\n",
    "# print Up,Wp\n",
    "#         for "
   ]
  },
  {
   "cell_type": "code",
   "execution_count": 254,
   "metadata": {},
   "outputs": [
    {
     "name": "stdout",
     "output_type": "stream",
     "text": [
      "t =  1750\n",
      "t    [1750]\n",
      "t+1  [1751]\n",
      "t =  1810\n",
      "t    [1810]\n",
      "t+1  [1811]\n",
      "t =  1870\n",
      "t    [1870]\n",
      "t+1  [1871]\n",
      "t =  1930\n",
      "t    [1930]\n",
      "t+1  [1931]\n",
      "t =  1990\n",
      "t    [1990]\n",
      "t+1  [1991]\n"
     ]
    }
   ],
   "source": [
    "trainfile = open(\"refdata.dat\", \"w\")\n",
    "trainfile.write(\"U W U0 W0 U1 W1 U2 W2 U3 W3 U4 W4 U5 W5 U6 W6 U7 W7 isfluid Up Wp \\n\")\n",
    "trainfile.close()\n",
    "\n",
    "iimin = 30\n",
    "iimax = 130\n",
    "kkmin = 40\n",
    "kkmax = 60\n",
    "\n",
    "\n",
    "trainfile = open(\"refdata.dat\", \"a\")\n",
    "for t in range(1750,1999,60):\n",
    "    print 't = ',t\n",
    "    \n",
    "    cfdt  = cfd[(cfd.t == t) & \n",
    "           (cfd.i>iimin-2) & \n",
    "           (cfd.i<iimax+2) & \n",
    "           (cfd.k>kkmin-2) &\n",
    "           (cfd.k<kkmax+2)]\n",
    "    print 't   ',cfdt.t.unique()\n",
    "        \n",
    "    cfdtp1 = cfd[(cfd.t == t+1) & \n",
    "               (cfd.i>iimin-2) & \n",
    "               (cfd.i<iimax+2) & \n",
    "               (cfd.k>kkmin-2) &\n",
    "               (cfd.k<kkmax+2)]\n",
    "    \n",
    "    print 't+1 ',cfdtp1.t.unique()\n",
    "    \n",
    "    for i in range(iimin,iimax):\n",
    "        for k in range(kkmin,kkmax):\n",
    "            U  = cfdt[(cfdt.i == i) & (cfdt.k == k)].U.values[0]\n",
    "            W  = cfdt[(cfdt.i == i) & (cfdt.k == k)].W.values[0]\n",
    "            U0 = cfdt[(cfdt.i == i+1) & (cfdt.k == k)].U.values[0]\n",
    "            W0 = cfdt[(cfdt.i == i+1) & (cfdt.k == k)].W.values[0]\n",
    "            U1 = cfdt[(cfdt.i == i+1) & (cfdt.k == k+1)].U.values[0]\n",
    "            W1 = cfdt[(cfdt.i == i+1) & (cfdt.k == k+1)].W.values[0]\n",
    "            U2 = cfdt[(cfdt.i == i) & (cfdt.k == k+1)].U.values[0]\n",
    "            W2 = cfdt[(cfdt.i == i) & (cfdt.k == k+1)].W.values[0]\n",
    "            U3 = cfdt[(cfdt.i == i-1) & (cfdt.k == k+1)].U.values[0]\n",
    "            W3 = cfdt[(cfdt.i == i-1) & (cfdt.k == k+1)].W.values[0]\n",
    "            U4 = cfdt[(cfdt.i == i-1) & (cfdt.k == k)].U.values[0]\n",
    "            W4 = cfdt[(cfdt.i == i-1) & (cfdt.k == k)].W.values[0]\n",
    "            U5 = cfdt[(cfdt.i == i-1) & (cfdt.k == k-1)].U.values[0]\n",
    "            W5 = cfdt[(cfdt.i == i-1) & (cfdt.k == k-1)].W.values[0]\n",
    "            U6 = cfdt[(cfdt.i == i) & (cfdt.k == k-1)].U.values[0]\n",
    "            W6 = cfdt[(cfdt.i == i) & (cfdt.k == k-1)].W.values[0]\n",
    "            U7 = cfdt[(cfdt.i == i+1) & (cfdt.k == k-1)].U.values[0]\n",
    "            W7 = cfdt[(cfdt.i == i+1) & (cfdt.k == k-1)].W.values[0]\n",
    "            Up = cfdtp1[(cfdtp1.i == i) & (cfdtp1.k == k)].U.values[0]\n",
    "            Wp = cfdtp1[(cfdtp1.i == i) & (cfdtp1.k == k)].W.values[0]\n",
    "            F = cfdt[(cfdt.i == i) & (cfdt.k == k)].F.values[0]\n",
    "            if (F>0):\n",
    "                isfluid = 1\n",
    "            else:\n",
    "                isfluid = 0\n",
    "            line = ''\n",
    "            for dd in [U,W,U0,W0,U1,W1,U2,W2,U3,W3,U4,W4,U5,W5,U6,W6,U7,W7,isfluid,Up,Wp]:\n",
    "                line += str(dd)+' '\n",
    "            line+='\\n'\n",
    "\n",
    "            trainfile.write(line)\n",
    "\n",
    "            \n",
    "print 'Done'\n",
    "trainfile.close()\n",
    "# print U,W\n",
    "# print Up,Wp\n",
    "#         for "
   ]
  }
 ],
 "metadata": {
  "kernelspec": {
   "display_name": "Python 2",
   "language": "python",
   "name": "python2"
  },
  "language_info": {
   "codemirror_mode": {
    "name": "ipython",
    "version": 2
   },
   "file_extension": ".py",
   "mimetype": "text/x-python",
   "name": "python",
   "nbconvert_exporter": "python",
   "pygments_lexer": "ipython2",
   "version": "2.7.13"
  }
 },
 "nbformat": 4,
 "nbformat_minor": 2
}
